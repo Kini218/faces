{
  "cells": [
    {
      "cell_type": "markdown",
      "metadata": {
        "id": "view-in-github",
        "colab_type": "text"
      },
      "source": [
        "<a href=\"https://colab.research.google.com/github/Kini218/faces/blob/main/main.ipynb\" target=\"_parent\"><img src=\"https://colab.research.google.com/assets/colab-badge.svg\" alt=\"Open In Colab\"/></a>"
      ]
    },
    {
      "cell_type": "code",
      "source": [
        "pip install deepface"
      ],
      "metadata": {
        "id": "G6v8OLSEcPx4"
      },
      "execution_count": null,
      "outputs": []
    },
    {
      "cell_type": "code",
      "source": [
        "#сравнение лиц\n",
        "from deepface import DeepFace\n",
        "\n",
        "img1_path = \"/content/img1.jpeg\"\n",
        "img2_path = \"/content/img6.jpeg\"\n",
        "\n",
        "try:\n",
        "    result = DeepFace.verify(img1_path=img1_path, img2_path=img2_path)\n",
        "    if result[\"verified\"]:\n",
        "        print(\"[+]The faces are the same.\")\n",
        "    else:\n",
        "        print(\"[+]The faces are different.\")\n",
        "except Exception as e:\n",
        "    print(f\"[+]An error occurred: {e}\")"
      ],
      "metadata": {
        "id": "WDU_fiYbgYkw"
      },
      "execution_count": null,
      "outputs": []
    },
    {
      "cell_type": "code",
      "source": [
        "#возраст, пол, раса, эмоция по фото\n",
        "from deepface import DeepFace\n",
        "\n",
        "img_path = \"/content/img1.jpeg\"\n",
        "actions = ['age', 'gender', 'race', 'emotion']\n",
        "\n",
        "try:\n",
        "    results = DeepFace.analyze(img_path=img_path, actions=actions)[0]\n",
        "    if results:\n",
        "        age = results[\"age\"]\n",
        "        gender = results[\"dominant_gender\"]\n",
        "        race = results[\"dominant_race\"]\n",
        "        emotion = results[\"dominant_emotion\"]\n",
        "        print(f\"[+]Age: {age}\")\n",
        "        print(f\"[+]Gender: {gender}\")\n",
        "        print(f\"[+]Race: {race}\")\n",
        "        print(f\"[+]Emotion: {emotion}\")\n",
        "    else:\n",
        "        print(\"[+]No faces were detected in the image.\")\n",
        "except Exception as e:\n",
        "    print(f\"[+]An error occurred: {e}\")"
      ],
      "metadata": {
        "id": "Rx9gvDCpgpbn"
      },
      "execution_count": null,
      "outputs": []
    }
  ],
  "metadata": {
    "kernelspec": {
      "display_name": "venv",
      "language": "python",
      "name": "python3"
    },
    "language_info": {
      "codemirror_mode": {
        "name": "ipython",
        "version": 3
      },
      "file_extension": ".py",
      "mimetype": "text/x-python",
      "name": "python",
      "nbconvert_exporter": "python",
      "pygments_lexer": "ipython3",
      "version": "3.10.0"
    },
    "orig_nbformat": 4,
    "vscode": {
      "interpreter": {
        "hash": "d32942244819cab372f0721fc309f48bea89cf12eb4b3c2c241f56dece0737a0"
      }
    },
    "colab": {
      "provenance": [],
      "include_colab_link": true
    }
  },
  "nbformat": 4,
  "nbformat_minor": 0
}
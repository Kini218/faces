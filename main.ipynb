{
  "cells": [
    {
      "cell_type": "markdown",
      "metadata": {
        "id": "view-in-github",
        "colab_type": "text"
      },
      "source": [
        "<a href=\"https://colab.research.google.com/github/Kini218/faces/blob/main/main.ipynb\" target=\"_parent\"><img src=\"https://colab.research.google.com/assets/colab-badge.svg\" alt=\"Open In Colab\"/></a>"
      ]
    },
    {
      "cell_type": "code",
      "source": [
        "pip install deepface"
      ],
      "metadata": {
        "id": "G6v8OLSEcPx4"
      },
      "execution_count": null,
      "outputs": []
    },
    {
      "cell_type": "code",
      "source": [
        "from deepface import DeepFace\n",
        "try:\n",
        "  result = DeepFace.verify(img1_path = \"/content/img1.jpeg\", img2_path = \"/content/img6.jpeg\")\n",
        "except:\n",
        "  print('Problem')\n",
        "\n",
        "if result['verified']:\n",
        "  print('Its the same faces')\n",
        "else:\n",
        "  print('Its different people')\n"
      ],
      "metadata": {
        "id": "EXe4os6Cn2l9",
        "outputId": "e31b3e2f-da1b-47d5-de1d-e481d5f250e3",
        "colab": {
          "base_uri": "https://localhost:8080/"
        }
      },
      "execution_count": 18,
      "outputs": [
        {
          "output_type": "stream",
          "name": "stdout",
          "text": [
            "Its the same faces\n"
          ]
        }
      ]
    },
    {
      "cell_type": "code",
      "source": [
        "try:\n",
        "  objs = DeepFace.analyze(img_path = \"/content/img1.jpeg\", actions = ['age', 'gender', 'race', 'emotion'])\n",
        "  res=objs[0]\n",
        "except:\n",
        "  print('Problem')\n",
        "\n",
        "print()\n",
        "print('Age:', res['age'])\n",
        "print('Gender:', res['dominant_gender'])\n",
        "print('Race:',  res['dominant_race'])\n",
        "print('Emotion:', res['dominant_emotion'])"
      ],
      "metadata": {
        "id": "4UHCDVY7vhjS",
        "outputId": "cfcbafe5-21b3-4a79-8a64-4ddfdb6f1566",
        "colab": {
          "base_uri": "https://localhost:8080/"
        }
      },
      "execution_count": 19,
      "outputs": [
        {
          "output_type": "stream",
          "name": "stderr",
          "text": [
            "Action: emotion: 100%|██████████| 4/4 [00:02<00:00,  1.76it/s]"
          ]
        },
        {
          "output_type": "stream",
          "name": "stdout",
          "text": [
            "\n",
            "Age: 31\n",
            "Gender: Woman\n",
            "Race: white\n",
            "Emotion: neutral\n"
          ]
        },
        {
          "output_type": "stream",
          "name": "stderr",
          "text": [
            "\n"
          ]
        }
      ]
    }
  ],
  "metadata": {
    "kernelspec": {
      "display_name": "venv",
      "language": "python",
      "name": "python3"
    },
    "language_info": {
      "codemirror_mode": {
        "name": "ipython",
        "version": 3
      },
      "file_extension": ".py",
      "mimetype": "text/x-python",
      "name": "python",
      "nbconvert_exporter": "python",
      "pygments_lexer": "ipython3",
      "version": "3.10.0"
    },
    "orig_nbformat": 4,
    "vscode": {
      "interpreter": {
        "hash": "d32942244819cab372f0721fc309f48bea89cf12eb4b3c2c241f56dece0737a0"
      }
    },
    "colab": {
      "provenance": [],
      "include_colab_link": true
    }
  },
  "nbformat": 4,
  "nbformat_minor": 0
}